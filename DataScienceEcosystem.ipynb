{
 "cells": [
  {
   "cell_type": "markdown",
   "id": "72703eec",
   "metadata": {},
   "source": [
    "# Data Science Tools"
   ]
  },
  {
   "cell_type": "markdown",
   "id": "73c885a3",
   "metadata": {},
   "source": [
    "In this notebook, Data Science Tools and Ecosystem are summarized."
   ]
  },
  {
   "cell_type": "markdown",
   "id": "c2e2d377",
   "metadata": {},
   "source": [
    "Some of the popular languages that Data Scientists use are:"
   ]
  },
  {
   "cell_type": "markdown",
   "id": "33ad17e8",
   "metadata": {},
   "source": [
    "1. Python\n",
    "2. R\n",
    "3. Julia"
   ]
  },
  {
   "cell_type": "markdown",
   "id": "7c2c0838",
   "metadata": {},
   "source": [
    "Some of the commomly used libraries used by Data Scientists include:"
   ]
  },
  {
   "cell_type": "markdown",
   "id": "b009c168",
   "metadata": {},
   "source": [
    "1. Pandas\n",
    "2. Numpy\n",
    "3. Seaborn"
   ]
  },
  {
   "cell_type": "markdown",
   "id": "b7e8025e",
   "metadata": {},
   "source": [
    "| Data Science Tools |\n",
    "|--------------------|\n",
    "| Jupyter Notebook |\n",
    "| Microsoft Visual Studio |\n",
    "| R Studio |"
   ]
  },
  {
   "cell_type": "markdown",
   "id": "89e9f9c0",
   "metadata": {},
   "source": [
    "### Below are a few examples of evaluating arithmetic expressions in Python."
   ]
  },
  {
   "cell_type": "code",
   "execution_count": 3,
   "id": "c1d332e6",
   "metadata": {},
   "outputs": [
    {
     "data": {
      "text/plain": [
       "17"
      ]
     },
     "execution_count": 3,
     "metadata": {},
     "output_type": "execute_result"
    }
   ],
   "source": [
    "# This a simple arithmetic expression to multipy then add integers.\n",
    "(3*4)+5"
   ]
  },
  {
   "cell_type": "code",
   "execution_count": 4,
   "id": "649adec9",
   "metadata": {},
   "outputs": [
    {
     "data": {
      "text/plain": [
       "3.3333333333333335"
      ]
     },
     "execution_count": 4,
     "metadata": {},
     "output_type": "execute_result"
    }
   ],
   "source": [
    "# This will convert 200 minutes to hours by dividing by 60.\n",
    "200/60"
   ]
  },
  {
   "cell_type": "markdown",
   "id": "458e7dac",
   "metadata": {},
   "source": [
    "Below the introduction cell created in Exercise 3:"
   ]
  },
  {
   "cell_type": "markdown",
   "id": "e6d27a54",
   "metadata": {},
   "source": [
    "# **Objectives**:"
   ]
  },
  {
   "cell_type": "markdown",
   "id": "bf4584c7",
   "metadata": {},
   "source": [
    "- The most popular languages for data scientist to manipulate the datasets is Python.\n",
    "- For the visualization purpose, Tableau and Power BI are mostly used tools.\n",
    "- For Machine Learning algothims, we have Scikit-learn library in Python. "
   ]
  },
  {
   "cell_type": "markdown",
   "id": "15d1eb2b",
   "metadata": {},
   "source": [
    "## Author : \n",
    "Chiragkumar Contractor"
   ]
  },
  {
   "cell_type": "code",
   "execution_count": null,
   "id": "db063e18",
   "metadata": {},
   "outputs": [],
   "source": []
  }
 ],
 "metadata": {
  "kernelspec": {
   "display_name": "Python 3 (ipykernel)",
   "language": "python",
   "name": "python3"
  },
  "language_info": {
   "codemirror_mode": {
    "name": "ipython",
    "version": 3
   },
   "file_extension": ".py",
   "mimetype": "text/x-python",
   "name": "python",
   "nbconvert_exporter": "python",
   "pygments_lexer": "ipython3",
   "version": "3.9.12"
  }
 },
 "nbformat": 4,
 "nbformat_minor": 5
}
